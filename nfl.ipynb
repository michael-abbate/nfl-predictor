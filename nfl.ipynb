{
  "cells": [
    {
      "cell_type": "code",
      "execution_count": null,
      "metadata": {
        "id": "9KcHZh1v7XFD"
      },
      "outputs": [
        {
          "ename": "",
          "evalue": "",
          "output_type": "error",
          "traceback": [
            "\u001b[1;31mRunning cells with 'Python 3.9.6 ('venv': venv)' requires ipykernel package.\n",
            "\u001b[1;31mRun the following command to install 'ipykernel' into the Python environment. \n",
            "\u001b[1;31mCommand: '/Users/mabbate/michael-abbate/apple-to-spotify/venv/bin/python -m pip install ipykernel -U --force-reinstall'"
          ]
        }
      ],
      "source": [
        "#@title Imports\n",
        "import pandas as pd\n",
        "import numpy as np\n",
        "from sklearn.linear_model import LogisticRegression\n",
        "import xgboost as xgb\n",
        "from sklearn.metrics import accuracy_score, roc_auc_score\n",
        "from sklearn.model_selection import train_test_split"
      ]
    },
    {
      "cell_type": "code",
      "execution_count": null,
      "metadata": {
        "id": "VxKh8DDCH_2V"
      },
      "outputs": [],
      "source": [
        "curr_week = 17"
      ]
    },
    {
      "cell_type": "code",
      "execution_count": null,
      "metadata": {
        "id": "DgDzytugfGdd"
      },
      "outputs": [],
      "source": [
        "#@title Functions\n",
        "def displayPredictions(y_pred,X_test,model_type=None):\n",
        "    for g in range(len(y_pred)):\n",
        "        if model_type == None:\n",
        "          try:\n",
        "            win_prob = round(y_pred[g],2)\n",
        "          except:\n",
        "            win_prob = y_pred[g]\n",
        "        elif model_type == 'xgb':\n",
        "          win_prob = round(float(y_pred[g][1]),2)\n",
        "        away_team = X_test.reset_index().drop(columns = 'index').loc[g,'away_name']\n",
        "        home_team = X_test.reset_index().drop(columns = 'index').loc[g,'home_name']\n",
        "        print(f'The {away_team} have a probability of {win_prob} of beating the {home_team}.')"
      ]
    },
    {
      "cell_type": "code",
      "execution_count": null,
      "metadata": {
        "id": "gNd5mzm7qaZt"
      },
      "outputs": [],
      "source": [
        "#@title Mount Google\n",
        "# from google.colab import auth\n",
        "# auth.authenticate_user()\n",
        "\n",
        "# from google.colab import drive\n",
        "# drive.mount('/content/drive')"
      ]
    },
    {
      "cell_type": "code",
      "execution_count": null,
      "metadata": {
        "colab": {
          "base_uri": "https://localhost:8080/"
        },
        "id": "Yry6gzLV0DmJ",
        "outputId": "8f5e6d67-011c-4e96-d809-e847b4e7b568"
      },
      "outputs": [
        {
          "name": "stdout",
          "output_type": "stream",
          "text": [
            "Collecting git+https://github.com/davidjkrause/sportsipy@master\n",
            "  Cloning https://github.com/davidjkrause/sportsipy (to revision master) to /tmp/pip-req-build-x5qwwczo\n",
            "  Running command git clone --filter=blob:none --quiet https://github.com/davidjkrause/sportsipy /tmp/pip-req-build-x5qwwczo\n",
            "  Resolved https://github.com/davidjkrause/sportsipy to commit 247bd7cbafcae268c6e8476a4187594eb59230df\n",
            "  Preparing metadata (setup.py) ... \u001b[?25l\u001b[?25hdone\n",
            "Requirement already satisfied: numpy>=1.19.5 in /usr/local/lib/python3.10/dist-packages (from sportsipy==0.6.0) (1.23.5)\n",
            "Requirement already satisfied: pandas>=0.24.1 in /usr/local/lib/python3.10/dist-packages (from sportsipy==0.6.0) (1.5.3)\n",
            "Collecting pyquery>=1.4.0 (from sportsipy==0.6.0)\n",
            "  Downloading pyquery-2.0.0-py3-none-any.whl (22 kB)\n",
            "Requirement already satisfied: requests>=2.18.4 in /usr/local/lib/python3.10/dist-packages (from sportsipy==0.6.0) (2.31.0)\n",
            "Requirement already satisfied: python-dateutil>=2.8.1 in /usr/local/lib/python3.10/dist-packages (from pandas>=0.24.1->sportsipy==0.6.0) (2.8.2)\n",
            "Requirement already satisfied: pytz>=2020.1 in /usr/local/lib/python3.10/dist-packages (from pandas>=0.24.1->sportsipy==0.6.0) (2023.3.post1)\n",
            "Requirement already satisfied: lxml>=2.1 in /usr/local/lib/python3.10/dist-packages (from pyquery>=1.4.0->sportsipy==0.6.0) (4.9.3)\n",
            "Collecting cssselect>=1.2.0 (from pyquery>=1.4.0->sportsipy==0.6.0)\n",
            "  Downloading cssselect-1.2.0-py2.py3-none-any.whl (18 kB)\n",
            "Requirement already satisfied: charset-normalizer<4,>=2 in /usr/local/lib/python3.10/dist-packages (from requests>=2.18.4->sportsipy==0.6.0) (3.3.2)\n",
            "Requirement already satisfied: idna<4,>=2.5 in /usr/local/lib/python3.10/dist-packages (from requests>=2.18.4->sportsipy==0.6.0) (3.6)\n",
            "Requirement already satisfied: urllib3<3,>=1.21.1 in /usr/local/lib/python3.10/dist-packages (from requests>=2.18.4->sportsipy==0.6.0) (2.0.7)\n",
            "Requirement already satisfied: certifi>=2017.4.17 in /usr/local/lib/python3.10/dist-packages (from requests>=2.18.4->sportsipy==0.6.0) (2023.11.17)\n",
            "Requirement already satisfied: six>=1.5 in /usr/local/lib/python3.10/dist-packages (from python-dateutil>=2.8.1->pandas>=0.24.1->sportsipy==0.6.0) (1.16.0)\n",
            "Building wheels for collected packages: sportsipy\n",
            "  Building wheel for sportsipy (setup.py) ... \u001b[?25l\u001b[?25hdone\n",
            "  Created wheel for sportsipy: filename=sportsipy-0.6.0-py3-none-any.whl size=501371 sha256=6abde7f7a4f4b6f85d150be92ca6db9ddd1672b8b8491d2cae22bbba50e894db\n",
            "  Stored in directory: /tmp/pip-ephem-wheel-cache-bfjjg51j/wheels/09/26/5b/40dd25df6c04408901881a213f7c062eb29b35f9ed80f34443\n",
            "Successfully built sportsipy\n",
            "Installing collected packages: cssselect, pyquery, sportsipy\n",
            "Successfully installed cssselect-1.2.0 pyquery-2.0.0 sportsipy-0.6.0\n"
          ]
        }
      ],
      "source": [
        "#@title Installs\n",
        "# !pip3 install sportsreference\n",
        "# !pip3 install sportsipy\n",
        "!pip3 install git+https://github.com/davidjkrause/sportsipy@master"
      ]
    },
    {
      "cell_type": "code",
      "execution_count": null,
      "metadata": {
        "id": "3QvDT-S-ryk-"
      },
      "outputs": [],
      "source": [
        "from sportsipy.nfl.boxscore import Boxscores, Boxscore"
      ]
    },
    {
      "cell_type": "code",
      "execution_count": null,
      "metadata": {
        "id": "UHt1E9op0nOy"
      },
      "outputs": [],
      "source": [
        "# boxscore_df = Boxscore('202310300det')"
      ]
    },
    {
      "cell_type": "code",
      "execution_count": null,
      "metadata": {
        "id": "Kj8Q1uts-xIV"
      },
      "outputs": [],
      "source": [
        "# boxscore_df.dataframe"
      ]
    },
    {
      "cell_type": "code",
      "execution_count": null,
      "metadata": {
        "id": "TzFwIBrGbdWo"
      },
      "outputs": [],
      "source": [
        "# boxscore_df.dataframe.columns"
      ]
    },
    {
      "cell_type": "code",
      "execution_count": null,
      "metadata": {
        "colab": {
          "base_uri": "https://localhost:8080/"
        },
        "id": "1C8ZQn0VQq6Q",
        "outputId": "df8c9d00-614b-45de-9142-c8b1ec94ab59"
      },
      "outputs": [
        {
          "name": "stdout",
          "output_type": "stream",
          "text": [
            "ALL: (300, 36)\n",
            "2022: (213, 36)\n",
            "2023: (87, 36)\n"
          ]
        }
      ],
      "source": [
        "pred_games_df = pd.read_csv(f'pred_games_df_{curr_week}.csv')\n",
        "comp_games_df = pd.read_csv(f'comp_games_df_{curr_week}.csv')\n",
        "comp_games_df_2022 = comp_games_df[comp_games_df['year']==2022]\n",
        "comp_games_df_2023 = comp_games_df[comp_games_df['year']==2023]\n",
        "print('ALL:', comp_games_df.shape)\n",
        "print('2022:', comp_games_df_2022.shape)\n",
        "print('2023:', comp_games_df_2023.shape)\n",
        "# comp_games_df = comp_games_df[(comp_games_df['year']!=2023) & (comp_games_df['week']!=8) & (comp_games_df['week']!=7)]\n",
        "# print(comp_games_df.shape)"
      ]
    },
    {
      "cell_type": "code",
      "execution_count": null,
      "metadata": {
        "colab": {
          "base_uri": "https://localhost:8080/"
        },
        "id": "WvQ2C1-DccDR",
        "outputId": "375faff0-9fda-45e2-9ac1-13c8f4d92a4c"
      },
      "outputs": [
        {
          "name": "stdout",
          "output_type": "stream",
          "text": [
            "X_train: (213, 29)\n",
            "X_test: (87, 29)\n"
          ]
        }
      ],
      "source": [
        "X_2022, X_2023 = comp_games_df_2022.drop(columns = ['result']), comp_games_df_2023.drop(columns = ['result'])\n",
        "X_2022.fillna(0,inplace=True)\n",
        "X_2023.fillna(0,inplace=True)\n",
        "\n",
        "y_2022,y_2023 = comp_games_df_2022[['result']], comp_games_df_2023[['result']]\n",
        "X_train_2022, X_test_2022, y_train_2022, y_test_2022 = train_test_split(X_2022, y_2022, test_size=0.20, random_state=42)\n",
        "X_train_2023, X_test_2023, y_train_2023, y_test_2023 = train_test_split(X_2023, y_2023, test_size=0.50, random_state=42)\n",
        "\n",
        "X_train = pd.concat([X_train_2022, X_train_2023])\n",
        "X_test = pd.concat([X_test_2022, X_test_2023])\n",
        "y_train = pd.concat([y_train_2022, y_train_2023])\n",
        "y_test = pd.concat([y_test_2022, y_test_2023])\n",
        "\n",
        "test_df = X_test.copy()\n",
        "X_train = X_train.drop(columns = ['year','away_name', 'away_abbr', 'home_name', 'home_abbr', 'week'])\n",
        "X_test = X_test.drop(columns = ['year','away_name', 'away_abbr', 'home_name', 'home_abbr', 'week'])\n",
        "\n",
        "print('X_train:', X_train.shape)\n",
        "print('X_test:', X_test.shape)"
      ]
    },
    {
      "cell_type": "code",
      "execution_count": null,
      "metadata": {
        "id": "q_yF-dmQceIO"
      },
      "outputs": [],
      "source": [
        "#@title Logistic Regression\n",
        "clf = LogisticRegression(penalty='l1', dual=False, tol=0.001, C=1.0, fit_intercept=True,\n",
        "                   intercept_scaling=1, class_weight='balanced', random_state=None,\n",
        "                   solver='liblinear', max_iter=1000, multi_class='ovr', verbose=0)\n",
        "\n",
        "clf.fit(X_train, np.ravel(y_train.values))\n",
        "y_pred_log = clf.predict_proba(X_test)\n",
        "y_pred_log = y_pred_log[:,1]\n",
        "\n",
        "# displayPredictions(y_pred_log,test_df)"
      ]
    },
    {
      "cell_type": "code",
      "execution_count": null,
      "metadata": {
        "colab": {
          "base_uri": "https://localhost:8080/"
        },
        "id": "bPPJeY-Vclog",
        "outputId": "ace77e01-59cc-4bbc-cc33-fc62211540ac"
      },
      "outputs": [
        {
          "name": "stdout",
          "output_type": "stream",
          "text": [
            "Accuracy: 0.57\n",
            "ROC AUC: 0.55\n"
          ]
        }
      ],
      "source": [
        "from sklearn.metrics import accuracy_score\n",
        "\n",
        "log_accuracy = accuracy_score(y_test,  np.round(y_pred_log))\n",
        "log_roc_auc = roc_auc_score(y_test, np.round(y_pred_log))\n",
        "\n",
        "print(f\"Accuracy: {log_accuracy:.2f}\")\n",
        "print(f\"ROC AUC: {log_roc_auc:.2f}\")\n",
        "# accuracy_score(y_test,np.round(y_pred))"
      ]
    },
    {
      "cell_type": "code",
      "execution_count": null,
      "metadata": {
        "colab": {
          "base_uri": "https://localhost:8080/"
        },
        "id": "kKNCH7uhetvo",
        "outputId": "198af6c1-9bfb-407f-a0d3-637ee83d5cfc"
      },
      "outputs": [
        {
          "name": "stdout",
          "output_type": "stream",
          "text": [
            "The New York Jets have a probability of 0.32 of beating the Cleveland Browns.\n",
            "The Miami Dolphins have a probability of 0.49 of beating the Baltimore Ravens.\n",
            "The Detroit Lions have a probability of 0.17 of beating the Dallas Cowboys.\n",
            "The Tennessee Titans have a probability of 0.44 of beating the Houston Texans.\n",
            "The New England Patriots have a probability of 0.09 of beating the Buffalo Bills.\n",
            "The New Orleans Saints have a probability of 0.31 of beating the Tampa Bay Buccaneers.\n",
            "The Los Angeles Chargers have a probability of 0.56 of beating the Denver Broncos.\n",
            "The Cincinnati Bengals have a probability of 0.25 of beating the Kansas City Chiefs.\n",
            "The Green Bay Packers have a probability of 0.33 of beating the Minnesota Vikings.\n"
          ]
        }
      ],
      "source": [
        "week = pred_games_df.drop(columns = ['year','away_name', 'away_abbr', 'home_name', 'home_abbr', 'week','result'])\n",
        "y_pred_week = clf.predict_proba(week)\n",
        "y_pred_week = y_pred_week[:,1]\n",
        "\n",
        "displayPredictions(y_pred_week,pred_games_df)"
      ]
    },
    {
      "cell_type": "code",
      "execution_count": null,
      "metadata": {
        "colab": {
          "base_uri": "https://localhost:8080/"
        },
        "id": "Rm89_OubgQe5",
        "outputId": "1e738419-fa0f-4894-fea9-7679a104257d"
      },
      "outputs": [
        {
          "name": "stdout",
          "output_type": "stream",
          "text": [
            "Accuracy: 0.63\n",
            "ROC AUC: 0.60\n"
          ]
        }
      ],
      "source": [
        "#@title XGBoost\n",
        "xgb_model = xgb.XGBClassifier(\n",
        "    objective='binary:logistic',  # For binary classification\n",
        "    n_estimators=100,             # Number of boosting rounds\n",
        "    max_depth=3,                  # Maximum tree depth\n",
        "    learning_rate=0.01,            # Step size shrinkage\n",
        "    # subsample=0.8,                # Fraction of samples used for training\n",
        "    # colsample_bytree=0.8,         # Fraction of features used for training\n",
        "    random_state=42\n",
        ")\n",
        "\n",
        "# Step 5: Train the model on the training data\n",
        "xgb_model.fit(X_train, y_train)\n",
        "\n",
        "# Step 6: Make predictions and obtain probabilities\n",
        "y_pred = xgb_model.predict(X_test)  # Predicted labels (0 or 1)\n",
        "y_pred_prob = xgb_model.predict_proba(X_test)[:, 1]  # Predicted probabilities for class 1\n",
        "\n",
        "# Evaluate the model using appropriate metrics (e.g., accuracy or ROC AUC)\n",
        "accuracy = accuracy_score(y_test, y_pred)\n",
        "roc_auc = roc_auc_score(y_test, y_pred_prob)\n",
        "\n",
        "print(f\"Accuracy: {accuracy:.2f}\")\n",
        "print(f\"ROC AUC: {roc_auc:.2f}\")"
      ]
    },
    {
      "cell_type": "code",
      "execution_count": null,
      "metadata": {
        "colab": {
          "base_uri": "https://localhost:8080/"
        },
        "id": "W2D8jZG-hP-b",
        "outputId": "a2d336e9-71ef-40ce-e7de-43410b383ee0"
      },
      "outputs": [
        {
          "name": "stdout",
          "output_type": "stream",
          "text": [
            "The New York Jets have a probability of 0.43 of beating the Cleveland Browns.\n",
            "The Miami Dolphins have a probability of 0.56 of beating the Baltimore Ravens.\n",
            "The Detroit Lions have a probability of 0.5 of beating the Dallas Cowboys.\n",
            "The Tennessee Titans have a probability of 0.32 of beating the Houston Texans.\n",
            "The New England Patriots have a probability of 0.29 of beating the Buffalo Bills.\n",
            "The New Orleans Saints have a probability of 0.3 of beating the Tampa Bay Buccaneers.\n",
            "The Los Angeles Chargers have a probability of 0.55 of beating the Denver Broncos.\n",
            "The Cincinnati Bengals have a probability of 0.34 of beating the Kansas City Chiefs.\n",
            "The Green Bay Packers have a probability of 0.39 of beating the Minnesota Vikings.\n"
          ]
        }
      ],
      "source": [
        "week = pred_games_df.drop(columns = ['year','away_name', 'away_abbr', 'home_name', 'home_abbr', 'week','result'])\n",
        "xgb_y_pred_week = xgb_model.predict_proba(week)\n",
        "\n",
        "displayPredictions(xgb_y_pred_week,pred_games_df,'xgb')"
      ]
    },
    {
      "cell_type": "code",
      "execution_count": null,
      "metadata": {
        "colab": {
          "base_uri": "https://localhost:8080/",
          "height": 509
        },
        "id": "l7QBhP1FnrQF",
        "outputId": "24c15676-7847-46ac-d40f-b23b2ac7e4e0"
      },
      "outputs": [
        {
          "data": {
            "text/plain": [
              "<Axes: >"
            ]
          },
          "execution_count": 16,
          "metadata": {},
          "output_type": "execute_result"
        },
        {
          "data": {
            "image/png": "[encoded data removed]",
            "text/plain": [
              "<Figure size 2000x1000 with 1 Axes>"
            ]
          },
          "metadata": {},
          "output_type": "display_data"
        }
      ],
      "source": [
        "#@title XGBoost - Feature Importance\n",
        "feature_important = xgb_model.get_booster().get_score(importance_type='weight')\n",
        "keys = list(feature_important.keys())\n",
        "values = list(feature_important.values())\n",
        "\n",
        "data = pd.DataFrame(data=values, index=keys, columns=[\"score\"]).sort_values(by = \"score\")\n",
        "data.nlargest(60, columns=\"score\").plot(kind='barh', figsize = (20,10))"
      ]
    },
    {
      "cell_type": "code",
      "execution_count": null,
      "metadata": {
        "id": "I49oLrKuhr_m"
      },
      "outputs": [],
      "source": [
        "from sklearn.model_selection import GridSearchCV\n",
        "\n",
        "param_grid = {\n",
        "    'n_estimators': [100, 200, 300],\n",
        "    'max_depth': [3, 4, 5],\n",
        "    'learning_rate': [0.01, 0.1, 0.2],\n",
        "    'subsample': [0.8, 0.9, 1.0],\n",
        "    'colsample_bytree': [0.8, 0.9, 1.0]\n",
        "}\n",
        "\n",
        "grid_search = GridSearchCV(estimator=xgb_model, param_grid=param_grid, scoring='roc_auc', cv=5)\n",
        "grid_search.fit(X_train, y_train)\n",
        "\n",
        "best_params = grid_search.best_params_\n",
        "xgb_model_optimized = grid_search.best_estimator_"
      ]
    },
    {
      "cell_type": "code",
      "execution_count": null,
      "metadata": {
        "colab": {
          "base_uri": "https://localhost:8080/"
        },
        "id": "U8kR2qI1mXYc",
        "outputId": "f780ba4d-aa09-4bdb-eb82-c8d8d945bd19"
      },
      "outputs": [
        {
          "name": "stdout",
          "output_type": "stream",
          "text": [
            "Accuracy: 0.63\n",
            "ROC AUC: 0.60\n"
          ]
        }
      ],
      "source": [
        "# Step 6: Make predictions and obtain probabilities\n",
        "y_pred_opt = xgb_model_optimized.predict(X_test)  # Predicted labels (0 or 1)\n",
        "y_pred_prob_opt = xgb_model_optimized.predict_proba(X_test)[:, 1]  # Predicted probabilities for class 1\n",
        "\n",
        "# Evaluate the model using appropriate metrics (e.g., accuracy or ROC AUC)\n",
        "accuracy_opt = accuracy_score(y_test, y_pred)\n",
        "roc_auc_opt = roc_auc_score(y_test, y_pred_prob)\n",
        "\n",
        "print(f\"Accuracy: {accuracy_opt:.2f}\")\n",
        "print(f\"ROC AUC: {roc_auc_opt:.2f}\")"
      ]
    },
    {
      "cell_type": "code",
      "execution_count": null,
      "metadata": {
        "colab": {
          "base_uri": "https://localhost:8080/"
        },
        "id": "mYxdha7qlQeM",
        "outputId": "350f3c95-615e-4274-bc52-5f3b359d336e"
      },
      "outputs": [
        {
          "name": "stdout",
          "output_type": "stream",
          "text": [
            "The New York Jets have a probability of 0.36 of beating the Cleveland Browns.\n",
            "The Miami Dolphins have a probability of 0.49 of beating the Baltimore Ravens.\n",
            "The Detroit Lions have a probability of 0.53 of beating the Dallas Cowboys.\n",
            "The Tennessee Titans have a probability of 0.37 of beating the Houston Texans.\n",
            "The New England Patriots have a probability of 0.29 of beating the Buffalo Bills.\n",
            "The New Orleans Saints have a probability of 0.31 of beating the Tampa Bay Buccaneers.\n",
            "The Los Angeles Chargers have a probability of 0.53 of beating the Denver Broncos.\n",
            "The Cincinnati Bengals have a probability of 0.34 of beating the Kansas City Chiefs.\n",
            "The Green Bay Packers have a probability of 0.41 of beating the Minnesota Vikings.\n"
          ]
        }
      ],
      "source": [
        "xgb_y_pred_week = xgb_model_optimized.predict_proba(week)\n",
        "\n",
        "displayPredictions(xgb_y_pred_week,pred_games_df,'xgb')"
      ]
    },
    {
      "cell_type": "code",
      "execution_count": null,
      "metadata": {
        "colab": {
          "base_uri": "https://localhost:8080/"
        },
        "id": "f6mpMz5ymg1p",
        "outputId": "c85392c4-0d73-4c25-c230-dc7fc73635b9"
      },
      "outputs": [
        {
          "name": "stdout",
          "output_type": "stream",
          "text": [
            "Accuracy of the ensemble model: 0.57\n"
          ]
        },
        {
          "name": "stderr",
          "output_type": "stream",
          "text": [
            "/usr/local/lib/python3.10/dist-packages/sklearn/utils/validation.py:1143: DataConversionWarning: A column-vector y was passed when a 1d array was expected. Please change the shape of y to (n_samples, ), for example using ravel().\n",
            "  y = column_or_1d(y, warn=True)\n",
            "/usr/local/lib/python3.10/dist-packages/sklearn/linear_model/_logistic.py:458: ConvergenceWarning: lbfgs failed to converge (status=1):\n",
            "STOP: TOTAL NO. of ITERATIONS REACHED LIMIT.\n",
            "\n",
            "Increase the number of iterations (max_iter) or scale the data as shown in:\n",
            "    https://scikit-learn.org/stable/modules/preprocessing.html\n",
            "Please also refer to the documentation for alternative solver options:\n",
            "    https://scikit-learn.org/stable/modules/linear_model.html#logistic-regression\n",
            "  n_iter_i = _check_optimize_result(\n"
          ]
        }
      ],
      "source": [
        "#@title Ensemble\n",
        "xgb_model = xgb.XGBClassifier(\n",
        "    objective='binary:logistic',  # For binary classification\n",
        "    n_estimators=100,             # Number of boosting rounds\n",
        "    max_depth=3,                  # Maximum tree depth\n",
        "    learning_rate=0.01,            # Step size shrinkage\n",
        "    # subsample=0.8,                # Fraction of samples used for training\n",
        "    # colsample_bytree=0.8,         # Fraction of features used for training\n",
        "    random_state=42\n",
        ")\n",
        "xgb_model.fit(X_train, y_train)\n",
        "\n",
        "# Predict probabilities using XGBoost\n",
        "y_pred_prob_xgb = xgb_model.predict_proba(X_test)[:, 1]  # Predicted probabilities for class 1\n",
        "\n",
        "# Step 3: Train a Logistic Regression model and predict probabilities\n",
        "lr_model = LogisticRegression()\n",
        "lr_model.fit(X_train, y_train)\n",
        "\n",
        "# Predict probabilities using Logistic Regression\n",
        "y_pred_prob_lr = lr_model.predict_proba(X_test)[:, 1]\n",
        "\n",
        "# Step 4: Combine the predicted probabilities\n",
        "# You can use various strategies to combine the probabilities, such as averaging, weighted averaging, or stacking.\n",
        "# Here, we use simple averaging.\n",
        "\n",
        "ensemble_probabilities = (y_pred_prob_xgb + y_pred_prob_lr) / 2\n",
        "# y_pred_ensemble = lr_model\n",
        "\n",
        "# Step 5: Convert probabilities to binary predictions\n",
        "# You can set a threshold to convert the probabilities into binary predictions.\n",
        "threshold = 0.5  # You can adjust the threshold as needed.\n",
        "y_pred_ensemble = (ensemble_probabilities > threshold).astype(int)\n",
        "\n",
        "# Step 6: Evaluate the ensemble model\n",
        "accuracy = accuracy_score(y_test, y_pred_ensemble)\n",
        "print(f\"Accuracy of the ensemble model: {accuracy:.2f}\")\n",
        "\n",
        "# Step 6: Evaluate the ensemble model\n",
        "# accuracy = accuracy_score(y_test, ensemble_probabilities)\n",
        "# print(f\"Accuracy of the ensemble model: {accuracy:.2f}\")"
      ]
    },
    {
      "cell_type": "code",
      "execution_count": null,
      "metadata": {
        "colab": {
          "base_uri": "https://localhost:8080/"
        },
        "id": "V3VLPiZy8Q3N",
        "outputId": "9f86202b-966d-4c4f-dcef-2c3f0df5930b"
      },
      "outputs": [
        {
          "name": "stdout",
          "output_type": "stream",
          "text": [
            "[0.33952731 0.48692254 0.35111326 0.40587139 0.18942395 0.31146067\n",
            " 0.54384447 0.29813317 0.37161996]\n",
            "The New York Jets have a probability of 0.34 of beating the Cleveland Browns.\n",
            "The Miami Dolphins have a probability of 0.49 of beating the Baltimore Ravens.\n",
            "The Detroit Lions have a probability of 0.35 of beating the Dallas Cowboys.\n",
            "The Tennessee Titans have a probability of 0.41 of beating the Houston Texans.\n",
            "The New England Patriots have a probability of 0.19 of beating the Buffalo Bills.\n",
            "The New Orleans Saints have a probability of 0.31 of beating the Tampa Bay Buccaneers.\n",
            "The Los Angeles Chargers have a probability of 0.54 of beating the Denver Broncos.\n",
            "The Cincinnati Bengals have a probability of 0.3 of beating the Kansas City Chiefs.\n",
            "The Green Bay Packers have a probability of 0.37 of beating the Minnesota Vikings.\n"
          ]
        }
      ],
      "source": [
        "# XGB Predictions\n",
        "# xgb_y_pred_week\n",
        "\n",
        "# Log Predictions\n",
        "# y_pred_week\n",
        "\n",
        "final_ensemble_probabilities = (xgb_y_pred_week[:, 1] + y_pred_week) / 2\n",
        "# y_pred_ensemble = lr_model\n",
        "print(final_ensemble_probabilities)\n",
        "# Step 5: Convert probabilities to binary predictions\n",
        "# You can set a threshold to convert the probabilities into binary predictions.\n",
        "# threshold = 0.5  # You can adjust the threshold as needed.u\n",
        "# final_y_pred_ensemble = (final_ensemble_probabilities > threshold).astype(int)\n",
        "\n",
        "displayPredictions(final_ensemble_probabilities,pred_games_df)"
      ]
    },
    {
      "cell_type": "code",
      "execution_count": null,
      "metadata": {
        "colab": {
          "base_uri": "https://localhost:8080/",
          "height": 17
        },
        "id": "wRndd7yz_MuC",
        "outputId": "91c34ee5-6fb9-4915-dc0c-1c59643790c4"
      },
      "outputs": [
        {
          "data": {
            "application/javascript": "\n    async function download(id, filename, size) {\n      if (!google.colab.kernel.accessAllowed) {\n        return;\n      }\n      const div = document.createElement('div');\n      const label = document.createElement('label');\n      label.textContent = `Downloading \"${filename}\": `;\n      div.appendChild(label);\n      const progress = document.createElement('progress');\n      progress.max = size;\n      div.appendChild(progress);\n      document.body.appendChild(div);\n\n      const buffers = [];\n      let downloaded = 0;\n\n      const channel = await google.colab.kernel.comms.open(id);\n      // Send a message to notify the kernel that we're ready.\n      channel.send({})\n\n      for await (const message of channel.messages) {\n        // Send a message to notify the kernel that we're ready.\n        channel.send({})\n        if (message.buffers) {\n          for (const buffer of message.buffers) {\n            buffers.push(buffer);\n            downloaded += buffer.byteLength;\n            progress.value = downloaded;\n          }\n        }\n      }\n      const blob = new Blob(buffers, {type: 'application/binary'});\n      const a = document.createElement('a');\n      a.href = window.URL.createObjectURL(blob);\n      a.download = filename;\n      div.appendChild(a);\n      a.click();\n      div.remove();\n    }\n  ",
            "text/plain": [
              "<IPython.core.display.Javascript object>"
            ]
          },
          "metadata": {},
          "output_type": "display_data"
        },
        {
          "data": {
            "application/javascript": "download(\"download_ee354abf-3185-4cee-a96d-f72c90712c8a\", \"logistic_model_17.pkl\", 2027)",
            "text/plain": [
              "<IPython.core.display.Javascript object>"
            ]
          },
          "metadata": {},
          "output_type": "display_data"
        },
        {
          "data": {
            "application/javascript": "\n    async function download(id, filename, size) {\n      if (!google.colab.kernel.accessAllowed) {\n        return;\n      }\n      const div = document.createElement('div');\n      const label = document.createElement('label');\n      label.textContent = `Downloading \"${filename}\": `;\n      div.appendChild(label);\n      const progress = document.createElement('progress');\n      progress.max = size;\n      div.appendChild(progress);\n      document.body.appendChild(div);\n\n      const buffers = [];\n      let downloaded = 0;\n\n      const channel = await google.colab.kernel.comms.open(id);\n      // Send a message to notify the kernel that we're ready.\n      channel.send({})\n\n      for await (const message of channel.messages) {\n        // Send a message to notify the kernel that we're ready.\n        channel.send({})\n        if (message.buffers) {\n          for (const buffer of message.buffers) {\n            buffers.push(buffer);\n            downloaded += buffer.byteLength;\n            progress.value = downloaded;\n          }\n        }\n      }\n      const blob = new Blob(buffers, {type: 'application/binary'});\n      const a = document.createElement('a');\n      a.href = window.URL.createObjectURL(blob);\n      a.download = filename;\n      div.appendChild(a);\n      a.click();\n      div.remove();\n    }\n  ",
            "text/plain": [
              "<IPython.core.display.Javascript object>"
            ]
          },
          "metadata": {},
          "output_type": "display_data"
        },
        {
          "data": {
            "application/javascript": "download(\"download_bf4c5bc3-6e5a-4065-aef5-6375f8730530\", \"xgboost_model_17.pkl\", 121935)",
            "text/plain": [
              "<IPython.core.display.Javascript object>"
            ]
          },
          "metadata": {},
          "output_type": "display_data"
        }
      ],
      "source": [
        "#@title Export Models\n",
        "\n",
        "import joblib\n",
        "joblib.dump(clf, f'logistic_model_{curr_week}.pkl')\n",
        "joblib.dump(xgb_model, f'xgboost_model_{curr_week}.pkl')\n",
        "# joblib.dump(rf_model, '/content/drive/MyDrive/performance_predicitions/rf_model.pkl')\n",
        "\n",
        "from google.colab import files\n",
        "# files.download('xgb_model.pkl')\n",
        "# files.download('rf_model.pkl')\n",
        "files.download(f'logistic_model_{curr_week}.pkl')\n",
        "files.download(f'xgboost_model_{curr_week}.pkl')"
      ]
    }
  ],
  "metadata": {
    "colab": {
      "provenance": []
    },
    "kernelspec": {
      "display_name": "Python 3.9.6 ('venv': venv)",
      "language": "python",
      "name": "python3"
    },
    "language_info": {
      "name": "python",
      "version": "3.9.6"
    },
    "vscode": {
      "interpreter": {
        "hash": "44734fb2f96d51f805b9b2d635203b7ae2be1612682c46feb89a7d56a3e20e5c"
      }
    }
  },
  "nbformat": 4,
  "nbformat_minor": 0
}
